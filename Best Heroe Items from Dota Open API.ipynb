{
 "cells": [
  {
   "cell_type": "markdown",
   "id": "847c0e67",
   "metadata": {},
   "source": [
    "## Dota API - Most useful items for your hero!"
   ]
  },
  {
   "cell_type": "code",
   "execution_count": 1,
   "id": "14953f16",
   "metadata": {},
   "outputs": [],
   "source": [
    "import requests\n",
    "import pandas as pd"
   ]
  },
  {
   "cell_type": "code",
   "execution_count": 2,
   "id": "42c6768c",
   "metadata": {},
   "outputs": [
    {
     "data": {
      "text/plain": [
       "<Response [200]>"
      ]
     },
     "execution_count": 2,
     "metadata": {},
     "output_type": "execute_result"
    }
   ],
   "source": [
    "heroes_id = requests.get(f\"https://api.opendota.com/api/heroes\")\n",
    "heroes_id"
   ]
  },
  {
   "cell_type": "code",
   "execution_count": 3,
   "id": "84d5f0f2",
   "metadata": {},
   "outputs": [],
   "source": [
    "heroes_id = heroes_id.json()\n",
    "heroes_df = pd.DataFrame(heroes_id)"
   ]
  },
  {
   "cell_type": "code",
   "execution_count": 4,
   "id": "fed11c26",
   "metadata": {},
   "outputs": [],
   "source": [
    "#heroes_df.set_index(\"id\", inplace=True)\n",
    "#heroes_df.drop(labels=[\"primary_attr\", \"attack_type\", \"roles\", \"legs\"], axis = 1, inplace = True)\n",
    "heroes_df[\"name\"] = heroes_df[\"name\"].str.replace(\"npc_dota_hero_\", \"\")"
   ]
  },
  {
   "cell_type": "markdown",
   "id": "569fda4c",
   "metadata": {},
   "source": [
    "### Items Dictionary:\n",
    "Couldn't find it online, so here's a local upload"
   ]
  },
  {
   "cell_type": "code",
   "execution_count": 5,
   "id": "386581d6",
   "metadata": {},
   "outputs": [],
   "source": [
    "items = pd.read_json(\"items.json\")\n",
    "#items[\"items\"]"
   ]
  },
  {
   "cell_type": "code",
   "execution_count": 6,
   "id": "47174769",
   "metadata": {},
   "outputs": [],
   "source": [
    "item_dict = {}\n",
    "for i in items[\"items\"]:\n",
    "    item_dict[i[\"id\"]] = i[\"name\"]\n",
    "#item_dict"
   ]
  },
  {
   "cell_type": "markdown",
   "id": "b513648e",
   "metadata": {},
   "source": [
    "### Heroes Table:"
   ]
  },
  {
   "cell_type": "code",
   "execution_count": 7,
   "id": "05b891d1",
   "metadata": {},
   "outputs": [
    {
     "data": {
      "text/html": [
       "<div>\n",
       "<style scoped>\n",
       "    .dataframe tbody tr th:only-of-type {\n",
       "        vertical-align: middle;\n",
       "    }\n",
       "\n",
       "    .dataframe tbody tr th {\n",
       "        vertical-align: top;\n",
       "    }\n",
       "\n",
       "    .dataframe thead th {\n",
       "        text-align: right;\n",
       "    }\n",
       "</style>\n",
       "<table border=\"1\" class=\"dataframe\">\n",
       "  <thead>\n",
       "    <tr style=\"text-align: right;\">\n",
       "      <th></th>\n",
       "      <th>id</th>\n",
       "      <th>name</th>\n",
       "      <th>localized_name</th>\n",
       "      <th>primary_attr</th>\n",
       "      <th>attack_type</th>\n",
       "      <th>roles</th>\n",
       "      <th>legs</th>\n",
       "    </tr>\n",
       "  </thead>\n",
       "  <tbody>\n",
       "    <tr>\n",
       "      <th>0</th>\n",
       "      <td>1</td>\n",
       "      <td>antimage</td>\n",
       "      <td>Anti-Mage</td>\n",
       "      <td>agi</td>\n",
       "      <td>Melee</td>\n",
       "      <td>[Carry, Escape, Nuker]</td>\n",
       "      <td>2</td>\n",
       "    </tr>\n",
       "    <tr>\n",
       "      <th>1</th>\n",
       "      <td>2</td>\n",
       "      <td>axe</td>\n",
       "      <td>Axe</td>\n",
       "      <td>str</td>\n",
       "      <td>Melee</td>\n",
       "      <td>[Initiator, Durable, Disabler, Jungler, Carry]</td>\n",
       "      <td>2</td>\n",
       "    </tr>\n",
       "    <tr>\n",
       "      <th>2</th>\n",
       "      <td>3</td>\n",
       "      <td>bane</td>\n",
       "      <td>Bane</td>\n",
       "      <td>int</td>\n",
       "      <td>Ranged</td>\n",
       "      <td>[Support, Disabler, Nuker, Durable]</td>\n",
       "      <td>4</td>\n",
       "    </tr>\n",
       "    <tr>\n",
       "      <th>3</th>\n",
       "      <td>4</td>\n",
       "      <td>bloodseeker</td>\n",
       "      <td>Bloodseeker</td>\n",
       "      <td>agi</td>\n",
       "      <td>Melee</td>\n",
       "      <td>[Carry, Disabler, Jungler, Nuker, Initiator]</td>\n",
       "      <td>2</td>\n",
       "    </tr>\n",
       "    <tr>\n",
       "      <th>4</th>\n",
       "      <td>5</td>\n",
       "      <td>crystal_maiden</td>\n",
       "      <td>Crystal Maiden</td>\n",
       "      <td>int</td>\n",
       "      <td>Ranged</td>\n",
       "      <td>[Support, Disabler, Nuker, Jungler]</td>\n",
       "      <td>2</td>\n",
       "    </tr>\n",
       "    <tr>\n",
       "      <th>...</th>\n",
       "      <td>...</td>\n",
       "      <td>...</td>\n",
       "      <td>...</td>\n",
       "      <td>...</td>\n",
       "      <td>...</td>\n",
       "      <td>...</td>\n",
       "      <td>...</td>\n",
       "    </tr>\n",
       "    <tr>\n",
       "      <th>118</th>\n",
       "      <td>128</td>\n",
       "      <td>snapfire</td>\n",
       "      <td>Snapfire</td>\n",
       "      <td>str</td>\n",
       "      <td>Ranged</td>\n",
       "      <td>[Support, Nuker, Disabler, Escape]</td>\n",
       "      <td>2</td>\n",
       "    </tr>\n",
       "    <tr>\n",
       "      <th>119</th>\n",
       "      <td>129</td>\n",
       "      <td>mars</td>\n",
       "      <td>Mars</td>\n",
       "      <td>str</td>\n",
       "      <td>Melee</td>\n",
       "      <td>[Carry, Initiator, Disabler, Durable]</td>\n",
       "      <td>2</td>\n",
       "    </tr>\n",
       "    <tr>\n",
       "      <th>120</th>\n",
       "      <td>135</td>\n",
       "      <td>dawnbreaker</td>\n",
       "      <td>Dawnbreaker</td>\n",
       "      <td>str</td>\n",
       "      <td>Melee</td>\n",
       "      <td>[Carry, Durable]</td>\n",
       "      <td>2</td>\n",
       "    </tr>\n",
       "    <tr>\n",
       "      <th>121</th>\n",
       "      <td>136</td>\n",
       "      <td>marci</td>\n",
       "      <td>Marci</td>\n",
       "      <td>str</td>\n",
       "      <td>Melee</td>\n",
       "      <td>[Support, Carry, Initiator, Disabler, Escape]</td>\n",
       "      <td>2</td>\n",
       "    </tr>\n",
       "    <tr>\n",
       "      <th>122</th>\n",
       "      <td>137</td>\n",
       "      <td>primal_beast</td>\n",
       "      <td>Primal Beast</td>\n",
       "      <td>str</td>\n",
       "      <td>Melee</td>\n",
       "      <td>[Initiator, Durable, Disabler]</td>\n",
       "      <td>2</td>\n",
       "    </tr>\n",
       "  </tbody>\n",
       "</table>\n",
       "<p>123 rows × 7 columns</p>\n",
       "</div>"
      ],
      "text/plain": [
       "      id            name  localized_name primary_attr attack_type  \\\n",
       "0      1        antimage       Anti-Mage          agi       Melee   \n",
       "1      2             axe             Axe          str       Melee   \n",
       "2      3            bane            Bane          int      Ranged   \n",
       "3      4     bloodseeker     Bloodseeker          agi       Melee   \n",
       "4      5  crystal_maiden  Crystal Maiden          int      Ranged   \n",
       "..   ...             ...             ...          ...         ...   \n",
       "118  128        snapfire        Snapfire          str      Ranged   \n",
       "119  129            mars            Mars          str       Melee   \n",
       "120  135     dawnbreaker     Dawnbreaker          str       Melee   \n",
       "121  136           marci           Marci          str       Melee   \n",
       "122  137    primal_beast    Primal Beast          str       Melee   \n",
       "\n",
       "                                              roles  legs  \n",
       "0                            [Carry, Escape, Nuker]     2  \n",
       "1    [Initiator, Durable, Disabler, Jungler, Carry]     2  \n",
       "2               [Support, Disabler, Nuker, Durable]     4  \n",
       "3      [Carry, Disabler, Jungler, Nuker, Initiator]     2  \n",
       "4               [Support, Disabler, Nuker, Jungler]     2  \n",
       "..                                              ...   ...  \n",
       "118              [Support, Nuker, Disabler, Escape]     2  \n",
       "119           [Carry, Initiator, Disabler, Durable]     2  \n",
       "120                                [Carry, Durable]     2  \n",
       "121   [Support, Carry, Initiator, Disabler, Escape]     2  \n",
       "122                  [Initiator, Durable, Disabler]     2  \n",
       "\n",
       "[123 rows x 7 columns]"
      ]
     },
     "execution_count": 7,
     "metadata": {},
     "output_type": "execute_result"
    }
   ],
   "source": [
    "heroes_df"
   ]
  },
  {
   "cell_type": "markdown",
   "id": "1e80fca2",
   "metadata": {},
   "source": [
    "### Finding a specific hero:\n",
    "*Chose the hero you want to look up!*"
   ]
  },
  {
   "cell_type": "code",
   "execution_count": 31,
   "id": "7e3dd3cf",
   "metadata": {},
   "outputs": [
    {
     "data": {
      "text/html": [
       "<div>\n",
       "<style scoped>\n",
       "    .dataframe tbody tr th:only-of-type {\n",
       "        vertical-align: middle;\n",
       "    }\n",
       "\n",
       "    .dataframe tbody tr th {\n",
       "        vertical-align: top;\n",
       "    }\n",
       "\n",
       "    .dataframe thead th {\n",
       "        text-align: right;\n",
       "    }\n",
       "</style>\n",
       "<table border=\"1\" class=\"dataframe\">\n",
       "  <thead>\n",
       "    <tr style=\"text-align: right;\">\n",
       "      <th></th>\n",
       "      <th>id</th>\n",
       "      <th>name</th>\n",
       "      <th>localized_name</th>\n",
       "      <th>primary_attr</th>\n",
       "      <th>attack_type</th>\n",
       "      <th>roles</th>\n",
       "      <th>legs</th>\n",
       "    </tr>\n",
       "  </thead>\n",
       "  <tbody>\n",
       "    <tr>\n",
       "      <th>23</th>\n",
       "      <td>25</td>\n",
       "      <td>lina</td>\n",
       "      <td>Lina</td>\n",
       "      <td>int</td>\n",
       "      <td>Ranged</td>\n",
       "      <td>[Support, Carry, Nuker, Disabler]</td>\n",
       "      <td>2</td>\n",
       "    </tr>\n",
       "  </tbody>\n",
       "</table>\n",
       "</div>"
      ],
      "text/plain": [
       "    id  name localized_name primary_attr attack_type  \\\n",
       "23  25  lina           Lina          int      Ranged   \n",
       "\n",
       "                                roles  legs  \n",
       "23  [Support, Carry, Nuker, Disabler]     2  "
      ]
     },
     "execution_count": 31,
     "metadata": {},
     "output_type": "execute_result"
    }
   ],
   "source": [
    "hero = \"lina\"\n",
    "heroes_df.loc[heroes_df[\"name\"] == f\"{hero}\"]"
   ]
  },
  {
   "cell_type": "markdown",
   "id": "dfbc52f3",
   "metadata": {},
   "source": [
    "#### Retrieving popular items for your hero:"
   ]
  },
  {
   "cell_type": "code",
   "execution_count": 33,
   "id": "6dcd97d8",
   "metadata": {},
   "outputs": [
    {
     "data": {
      "text/plain": [
       "<Response [200]>"
      ]
     },
     "execution_count": 33,
     "metadata": {},
     "output_type": "execute_result"
    }
   ],
   "source": [
    "# Retrieving a specific value from the dataset:\n",
    "hero_id = heroes_df.loc[heroes_df[\"name\"] == f\"{hero}\", \"id\"].iloc[0]\n",
    "popular_items = requests.get(f\"https://api.opendota.com/api/heroes/{hero_id}/itemPopularity\")\n",
    "popular_items"
   ]
  },
  {
   "cell_type": "code",
   "execution_count": 34,
   "id": "b6da253c",
   "metadata": {},
   "outputs": [],
   "source": [
    "popular_items = popular_items.json()\n",
    "popular_items = pd.DataFrame(popular_items)\n",
    "popular_items.fillna(0, inplace=True)"
   ]
  },
  {
   "cell_type": "code",
   "execution_count": 11,
   "id": "4558dd9c",
   "metadata": {},
   "outputs": [
    {
     "data": {
      "text/html": [
       "<div>\n",
       "<style scoped>\n",
       "    .dataframe tbody tr th:only-of-type {\n",
       "        vertical-align: middle;\n",
       "    }\n",
       "\n",
       "    .dataframe tbody tr th {\n",
       "        vertical-align: top;\n",
       "    }\n",
       "\n",
       "    .dataframe thead th {\n",
       "        text-align: right;\n",
       "    }\n",
       "</style>\n",
       "<table border=\"1\" class=\"dataframe\">\n",
       "  <thead>\n",
       "    <tr style=\"text-align: right;\">\n",
       "      <th></th>\n",
       "      <th>start_game_items</th>\n",
       "      <th>early_game_items</th>\n",
       "      <th>mid_game_items</th>\n",
       "      <th>late_game_items</th>\n",
       "    </tr>\n",
       "  </thead>\n",
       "  <tbody>\n",
       "    <tr>\n",
       "      <th>11</th>\n",
       "      <td>91.0</td>\n",
       "      <td>0.0</td>\n",
       "      <td>0.0</td>\n",
       "      <td>0.0</td>\n",
       "    </tr>\n",
       "    <tr>\n",
       "      <th>12</th>\n",
       "      <td>65.0</td>\n",
       "      <td>0.0</td>\n",
       "      <td>0.0</td>\n",
       "      <td>0.0</td>\n",
       "    </tr>\n",
       "    <tr>\n",
       "      <th>13</th>\n",
       "      <td>29.0</td>\n",
       "      <td>0.0</td>\n",
       "      <td>0.0</td>\n",
       "      <td>0.0</td>\n",
       "    </tr>\n",
       "    <tr>\n",
       "      <th>16</th>\n",
       "      <td>141.0</td>\n",
       "      <td>0.0</td>\n",
       "      <td>0.0</td>\n",
       "      <td>0.0</td>\n",
       "    </tr>\n",
       "    <tr>\n",
       "      <th>20</th>\n",
       "      <td>8.0</td>\n",
       "      <td>0.0</td>\n",
       "      <td>0.0</td>\n",
       "      <td>0.0</td>\n",
       "    </tr>\n",
       "  </tbody>\n",
       "</table>\n",
       "</div>"
      ],
      "text/plain": [
       "    start_game_items  early_game_items  mid_game_items  late_game_items\n",
       "11              91.0               0.0             0.0              0.0\n",
       "12              65.0               0.0             0.0              0.0\n",
       "13              29.0               0.0             0.0              0.0\n",
       "16             141.0               0.0             0.0              0.0\n",
       "20               8.0               0.0             0.0              0.0"
      ]
     },
     "execution_count": 11,
     "metadata": {},
     "output_type": "execute_result"
    }
   ],
   "source": [
    "popular_items.head()"
   ]
  },
  {
   "cell_type": "markdown",
   "id": "64234070",
   "metadata": {},
   "source": [
    "### Popular items for the chosen hero:\n",
    "Yeah, the display needs improvement.."
   ]
  },
  {
   "cell_type": "code",
   "execution_count": 35,
   "id": "8092463a",
   "metadata": {},
   "outputs": [
    {
     "name": "stdout",
     "output_type": "stream",
     "text": [
      "start_game_items:\n"
     ]
    },
    {
     "data": {
      "text/plain": [
       "'      branches'"
      ]
     },
     "metadata": {},
     "output_type": "display_data"
    },
    {
     "data": {
      "text/plain": [
       "'      tango'"
      ]
     },
     "metadata": {},
     "output_type": "display_data"
    },
    {
     "data": {
      "text/plain": [
       "'      ward_observer'"
      ]
     },
     "metadata": {},
     "output_type": "display_data"
    },
    {
     "data": {
      "text/plain": [
       "'      faerie_fire'"
      ]
     },
     "metadata": {},
     "output_type": "display_data"
    },
    {
     "data": {
      "text/plain": [
       "'      circlet'"
      ]
     },
     "metadata": {},
     "output_type": "display_data"
    },
    {
     "name": "stdout",
     "output_type": "stream",
     "text": [
      "early_game_items:\n"
     ]
    },
    {
     "data": {
      "text/plain": [
       "'      arcane_boots'"
      ]
     },
     "metadata": {},
     "output_type": "display_data"
    },
    {
     "data": {
      "text/plain": [
       "'      energy_booster'"
      ]
     },
     "metadata": {},
     "output_type": "display_data"
    },
    {
     "data": {
      "text/plain": [
       "'      void_stone'"
      ]
     },
     "metadata": {},
     "output_type": "display_data"
    },
    {
     "data": {
      "text/plain": [
       "'      aether_lens'"
      ]
     },
     "metadata": {},
     "output_type": "display_data"
    },
    {
     "name": "stdout",
     "output_type": "stream",
     "text": [
      "mid_game_items:\n"
     ]
    },
    {
     "data": {
      "text/plain": [
       "'      black_king_bar'"
      ]
     },
     "metadata": {},
     "output_type": "display_data"
    },
    {
     "data": {
      "text/plain": [
       "'      invis_sword'"
      ]
     },
     "metadata": {},
     "output_type": "display_data"
    },
    {
     "data": {
      "text/plain": [
       "'      aether_lens'"
      ]
     },
     "metadata": {},
     "output_type": "display_data"
    },
    {
     "data": {
      "text/plain": [
       "'      ultimate_scepter'"
      ]
     },
     "metadata": {},
     "output_type": "display_data"
    },
    {
     "data": {
      "text/plain": [
       "'      blink'"
      ]
     },
     "metadata": {},
     "output_type": "display_data"
    },
    {
     "name": "stdout",
     "output_type": "stream",
     "text": [
      "late_game_items:\n"
     ]
    },
    {
     "data": {
      "text/plain": [
       "'      silver_edge'"
      ]
     },
     "metadata": {},
     "output_type": "display_data"
    },
    {
     "data": {
      "text/plain": [
       "'      satanic'"
      ]
     },
     "metadata": {},
     "output_type": "display_data"
    },
    {
     "data": {
      "text/plain": [
       "'      greater_crit'"
      ]
     },
     "metadata": {},
     "output_type": "display_data"
    },
    {
     "data": {
      "text/plain": [
       "'      black_king_bar'"
      ]
     },
     "metadata": {},
     "output_type": "display_data"
    },
    {
     "data": {
      "text/plain": [
       "'      octarine_core'"
      ]
     },
     "metadata": {},
     "output_type": "display_data"
    }
   ],
   "source": [
    "for column in popular_items.columns:\n",
    "    print(column + \":\")\n",
    "    for item in popular_items[column].sort_values(ascending=False)[:5].index:\n",
    "        try:\n",
    "            display(\"      \" + item_dict[int(item)])\n",
    "        except:\n",
    "            # Some errors occur because the dictionary does't have the matching item id!\n",
    "            continue"
   ]
  }
 ],
 "metadata": {
  "kernelspec": {
   "display_name": "Python 3 (ipykernel)",
   "language": "python",
   "name": "python3"
  },
  "language_info": {
   "codemirror_mode": {
    "name": "ipython",
    "version": 3
   },
   "file_extension": ".py",
   "mimetype": "text/x-python",
   "name": "python",
   "nbconvert_exporter": "python",
   "pygments_lexer": "ipython3",
   "version": "3.10.5"
  }
 },
 "nbformat": 4,
 "nbformat_minor": 5
}
